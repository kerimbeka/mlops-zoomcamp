{
 "cells": [
  {
   "cell_type": "code",
   "execution_count": 64,
   "id": "2cb11b0b",
   "metadata": {},
   "outputs": [],
   "source": [
    "import polars as pl\n",
    "from pathlib import Path\n",
    "\n",
    "from sklearn.feature_extraction import DictVectorizer\n",
    "from sklearn.linear_model import LinearRegression\n",
    "\n",
    "from sklearn.metrics import root_mean_squared_error\n",
    "\n",
    "import numpy as np"
   ]
  },
  {
   "cell_type": "code",
   "execution_count": 3,
   "id": "91166704",
   "metadata": {},
   "outputs": [],
   "source": [
    "df = pl.read_parquet(Path(\"./data/yellow_tripdata_2023-01.parquet\"))"
   ]
  },
  {
   "cell_type": "code",
   "execution_count": 4,
   "id": "ea408744",
   "metadata": {},
   "outputs": [
    {
     "name": "stdout",
     "output_type": "stream",
     "text": [
      "19\n"
     ]
    }
   ],
   "source": [
    "print(len(df.columns))"
   ]
  },
  {
   "cell_type": "code",
   "execution_count": 15,
   "id": "939c9762",
   "metadata": {},
   "outputs": [],
   "source": [
    "df = df.with_columns(duration=pl.col(\"tpep_dropoff_datetime\") - pl.col(\"tpep_pickup_datetime\"))"
   ]
  },
  {
   "cell_type": "code",
   "execution_count": 18,
   "id": "f1156b45",
   "metadata": {},
   "outputs": [
    {
     "data": {
      "text/html": [
       "<div><style>\n",
       ".dataframe > thead > tr,\n",
       ".dataframe > tbody > tr {\n",
       "  text-align: right;\n",
       "  white-space: pre-wrap;\n",
       "}\n",
       "</style>\n",
       "<small>shape: (1, 1)</small><table border=\"1\" class=\"dataframe\"><thead><tr><th>duration</th></tr><tr><td>duration[ns]</td></tr></thead><tbody><tr><td>42m 35s 661074517ns</td></tr></tbody></table></div>"
      ],
      "text/plain": [
       "shape: (1, 1)\n",
       "┌─────────────────────┐\n",
       "│ duration            │\n",
       "│ ---                 │\n",
       "│ duration[ns]        │\n",
       "╞═════════════════════╡\n",
       "│ 42m 35s 661074517ns │\n",
       "└─────────────────────┘"
      ]
     },
     "execution_count": 18,
     "metadata": {},
     "output_type": "execute_result"
    }
   ],
   "source": [
    "df.select(pl.col(\"duration\").std())"
   ]
  },
  {
   "cell_type": "code",
   "execution_count": 28,
   "id": "76d1c98f",
   "metadata": {},
   "outputs": [],
   "source": [
    "filtered_df = df.filter(pl.col(\"duration\")>=pl.duration(minutes=1), pl.col(\"duration\")<=pl.duration(minutes=60))"
   ]
  },
  {
   "cell_type": "code",
   "execution_count": 32,
   "id": "44a29517",
   "metadata": {},
   "outputs": [
    {
     "data": {
      "text/plain": [
       "98.1220282212598"
      ]
     },
     "execution_count": 32,
     "metadata": {},
     "output_type": "execute_result"
    }
   ],
   "source": [
    "filtered_df.shape[0] / df.shape[0] * 100"
   ]
  },
  {
   "cell_type": "code",
   "execution_count": 35,
   "id": "b532dcd4",
   "metadata": {},
   "outputs": [],
   "source": [
    "categorical = ['PULocationID', 'DOLocationID']\n",
    "filtered_df = filtered_df.with_columns(pl.col(categorical).cast(pl.String))\n",
    "train_dicts = filtered_df.select(pl.col(categorical)).to_dicts()"
   ]
  },
  {
   "cell_type": "code",
   "execution_count": 38,
   "id": "39a2d091",
   "metadata": {},
   "outputs": [],
   "source": [
    "dv = DictVectorizer()\n",
    "X_train = dv.fit_transform(train_dicts)"
   ]
  },
  {
   "cell_type": "code",
   "execution_count": 44,
   "id": "4727ac71",
   "metadata": {},
   "outputs": [
    {
     "data": {
      "text/plain": [
       "515"
      ]
     },
     "execution_count": 44,
     "metadata": {},
     "output_type": "execute_result"
    }
   ],
   "source": [
    "X_train.shape[1]"
   ]
  },
  {
   "cell_type": "code",
   "execution_count": 56,
   "id": "baa0e277",
   "metadata": {},
   "outputs": [],
   "source": [
    "y_train = filtered_df.select(pl.col(\"duration\").cast(pl.Int64) / 10**9 / 60).to_numpy()"
   ]
  },
  {
   "cell_type": "code",
   "execution_count": null,
   "id": "f188783d",
   "metadata": {},
   "outputs": [],
   "source": [
    "lin_reg_model = LinearRegression()\n",
    "lin_reg_model.fit(X_train, y_train)\n",
    "\n",
    "y_pred = lin_reg_model.predict(X_train)"
   ]
  },
  {
   "cell_type": "code",
   "execution_count": 59,
   "id": "83644dcb",
   "metadata": {},
   "outputs": [
    {
     "data": {
      "text/plain": [
       "7.649261824389368"
      ]
     },
     "execution_count": 59,
     "metadata": {},
     "output_type": "execute_result"
    }
   ],
   "source": [
    "root_mean_squared_error(y_train, y_pred)"
   ]
  },
  {
   "cell_type": "code",
   "execution_count": 65,
   "id": "c2e89587",
   "metadata": {},
   "outputs": [],
   "source": [
    "def read_dataframe(file_path: Path) -> tuple[list[dict[str, str]], np.array]:\n",
    "    df = pl.read_parquet(file_path)\n",
    "    df = df.with_columns(duration=pl.col(\"tpep_dropoff_datetime\") - pl.col(\"tpep_pickup_datetime\"))\n",
    "    filtered_df = df.filter(pl.col(\"duration\")>=pl.duration(minutes=1), pl.col(\"duration\")<=pl.duration(minutes=60))\n",
    "    categorical = ['PULocationID', 'DOLocationID']\n",
    "    filtered_df = filtered_df.with_columns(pl.col(categorical).cast(pl.String))\n",
    "    X_dicts = filtered_df.select(pl.col(categorical)).to_dicts()\n",
    "    y = filtered_df.select(pl.col(\"duration\").cast(pl.Int64) / 10**9 / 60).to_numpy()\n",
    "    return X_dicts, y"
   ]
  },
  {
   "cell_type": "code",
   "execution_count": 66,
   "id": "58089acd",
   "metadata": {},
   "outputs": [],
   "source": [
    "train_dicts, y_train = read_dataframe(Path(\"./data/yellow_tripdata_2023-01.parquet\"))\n",
    "val_dicts, y_val = read_dataframe(Path(\"./data/yellow_tripdata_2023-02.parquet\"))"
   ]
  },
  {
   "cell_type": "code",
   "execution_count": 67,
   "id": "bcded5db",
   "metadata": {},
   "outputs": [],
   "source": [
    "dv = DictVectorizer()\n",
    "X_train = dv.fit_transform(train_dicts)\n",
    "X_val = dv.transform(val_dicts)"
   ]
  },
  {
   "cell_type": "code",
   "execution_count": 68,
   "id": "2233068e",
   "metadata": {},
   "outputs": [
    {
     "data": {
      "text/plain": [
       "7.811822570922324"
      ]
     },
     "execution_count": 68,
     "metadata": {},
     "output_type": "execute_result"
    }
   ],
   "source": [
    "y_pred = lin_reg_model.predict(X_val)\n",
    "root_mean_squared_error(y_val, y_pred)"
   ]
  }
 ],
 "metadata": {
  "kernelspec": {
   "display_name": ".venv",
   "language": "python",
   "name": "python3"
  },
  "language_info": {
   "codemirror_mode": {
    "name": "ipython",
    "version": 3
   },
   "file_extension": ".py",
   "mimetype": "text/x-python",
   "name": "python",
   "nbconvert_exporter": "python",
   "pygments_lexer": "ipython3",
   "version": "3.11.10"
  }
 },
 "nbformat": 4,
 "nbformat_minor": 5
}
